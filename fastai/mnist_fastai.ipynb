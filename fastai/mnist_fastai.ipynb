{
 "cells": [
  {
   "cell_type": "markdown",
   "id": "899cde6d",
   "metadata": {},
   "source": [
    "# MNIST Model Implemented Fast with fastai"
   ]
  },
  {
   "cell_type": "markdown",
   "id": "50161db7",
   "metadata": {},
   "source": [
    "## Define the data loaders"
   ]
  },
  {
   "cell_type": "code",
   "execution_count": 62,
   "id": "80d4bcc3",
   "metadata": {},
   "outputs": [
    {
     "data": {
      "text/plain": [
       "(<fastai.data.load.DataLoader at 0x7f843c09b1e0>,\n",
       " <fastai.data.load.DataLoader at 0x7f843c2d8050>)"
      ]
     },
     "execution_count": 62,
     "metadata": {},
     "output_type": "execute_result"
    }
   ],
   "source": [
    "from fastai.vision.all import * # Usually imports everything needed for computer vision tasks in fastai\n",
    "import os\n",
    "import torchvision\n",
    "\n",
    "assert os.path.exists('/mnt/2tb-drive/data'), \"Data directory does not exist. Please check the path.\"\n",
    "transform = torchvision.transforms.Compose([torchvision.transforms.ToTensor()])\n",
    "trainmnist = torchvision.datasets.MNIST('/mnt/2tb-drive/data/MNIST', train=True, download=True, transform=transform)\n",
    "trainloader = DataLoader(dataset=trainmnist, batch_size=32, shuffle=True, num_workers=16) # fastai's DataLoader\n",
    "testmnist = torchvision.datasets.MNIST('/mnt/2tb-drive/data/MNIST', train=False, download=True, transform=transform)\n",
    "testloader = DataLoader(dataset=testmnist, batch_size=32, shuffle=False, num_workers=16) # fastai's DataLoader\n",
    "\n",
    "trainloader, testloader"
   ]
  },
  {
   "cell_type": "markdown",
   "id": "c229d087",
   "metadata": {},
   "source": [
    "## Residual Networks are Just Fine for MNIST"
   ]
  },
  {
   "cell_type": "code",
   "execution_count": null,
   "id": "942901ec",
   "metadata": {},
   "outputs": [
    {
     "data": {
      "text/html": [
       "\n",
       "<style>\n",
       "    /* Turns off some styling */\n",
       "    progress {\n",
       "        /* gets rid of default border in Firefox and Opera. */\n",
       "        border: none;\n",
       "        /* Needs to be in here for Safari polyfill so background images work as expected. */\n",
       "        background-size: auto;\n",
       "    }\n",
       "    progress:not([value]), progress:not([value])::-webkit-progress-bar {\n",
       "        background: repeating-linear-gradient(45deg, #7e7e7e, #7e7e7e 10px, #5c5c5c 10px, #5c5c5c 20px);\n",
       "    }\n",
       "    .progress-bar-interrupted, .progress-bar-interrupted::-webkit-progress-bar {\n",
       "        background: #F44336;\n",
       "    }\n",
       "</style>\n"
      ],
      "text/plain": [
       "<IPython.core.display.HTML object>"
      ]
     },
     "metadata": {},
     "output_type": "display_data"
    },
    {
     "data": {
      "text/html": [
       "<table border=\"1\" class=\"dataframe\">\n",
       "  <thead>\n",
       "    <tr style=\"text-align: left;\">\n",
       "      <th>epoch</th>\n",
       "      <th>train_loss</th>\n",
       "      <th>valid_loss</th>\n",
       "      <th>accuracy</th>\n",
       "      <th>time</th>\n",
       "    </tr>\n",
       "  </thead>\n",
       "  <tbody>\n",
       "    <tr>\n",
       "      <td>0</td>\n",
       "      <td>0.145191</td>\n",
       "      <td>0.084358</td>\n",
       "      <td>0.974100</td>\n",
       "      <td>03:04</td>\n",
       "    </tr>\n",
       "    <tr>\n",
       "      <td>1</td>\n",
       "      <td>0.091462</td>\n",
       "      <td>0.056596</td>\n",
       "      <td>0.981900</td>\n",
       "      <td>03:01</td>\n",
       "    </tr>\n",
       "    <tr>\n",
       "      <td>2</td>\n",
       "      <td>0.052457</td>\n",
       "      <td>0.036050</td>\n",
       "      <td>0.988000</td>\n",
       "      <td>03:07</td>\n",
       "    </tr>\n",
       "    <tr>\n",
       "      <td>3</td>\n",
       "      <td>0.045611</td>\n",
       "      <td>0.035838</td>\n",
       "      <td>0.989400</td>\n",
       "      <td>03:08</td>\n",
       "    </tr>\n",
       "  </tbody>\n",
       "</table>"
      ],
      "text/plain": [
       "<IPython.core.display.HTML object>"
      ]
     },
     "metadata": {},
     "output_type": "display_data"
    }
   ],
   "source": [
    "dls = DataLoaders(trainloader, testloader)\n",
    "dls.c = 10  # Set number of classes for MNIST\n",
    "# https://docs.fast.ai/vision.learner.html#vision_learner\n",
    "l = vision_learner(dls, resnet18, pretrained=False, loss_func=F.cross_entropy, metrics=accuracy, n_in=1)\n",
    "l.fit(4, 1e-3)  # Train for 1 epoch with a learning rate of 0.01"
   ]
  }
 ],
 "metadata": {
  "kernelspec": {
   "display_name": "venv",
   "language": "python",
   "name": "python3"
  },
  "language_info": {
   "codemirror_mode": {
    "name": "ipython",
    "version": 3
   },
   "file_extension": ".py",
   "mimetype": "text/x-python",
   "name": "python",
   "nbconvert_exporter": "python",
   "pygments_lexer": "ipython3",
   "version": "3.13.3"
  }
 },
 "nbformat": 4,
 "nbformat_minor": 5
}
